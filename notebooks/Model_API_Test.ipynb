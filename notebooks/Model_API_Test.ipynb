# visualization.ipynb

import requests
import json
import pandas as pd
import matplotlib.pyplot as plt

# Define the API endpoint
url = "http://127.0.0.1:5000/predict"

# Sample input features for prediction
input_data = {
    "features": [1.5, 2.3, 0.7, 1.0, 0.4]  # Replace with actual feature values
}

# Make a POST request to the API
response = requests.post(url, json=input_data)

# Get the prediction from the response
prediction = response.json().get('prediction')
print("Prediction:", prediction)

# Visualize the prediction (you can customize this based on your needs)
plt.figure(figsize=(8, 4))
plt.bar(['Fraud', 'Not Fraud'], prediction, color=['red', 'green'])
plt.title('Fraud Detection Prediction')
plt.xlabel('Class')
plt.ylabel('Probability')
plt.show()
