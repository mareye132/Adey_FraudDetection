{
 "cells": [
  {
   "cell_type": "code",
   "execution_count": null,
   "id": "f4b7b8c6",
   "metadata": {},
   "outputs": [],
   "source": [
    "import requests\n",
    "import json\n",
    "import pandas as pd\n",
    "import matplotlib.pyplot as plt\n",
    "\n",
    "# Define the API endpoint\n",
    "url = \"http://127.0.0.1:5000/predict\"\n",
    "\n",
    "# Sample input features for prediction\n",
    "input_data = {\n",
    "    \"features\": [1.5, 2.3, 0.7, 1.0, 0.4]  # Replace with actual feature values\n",
    "}\n",
    "\n",
    "# Make a POST request to the API\n",
    "response = requests.post(url, json=input_data)\n",
    "\n",
    "# Get the prediction from the response\n",
    "prediction = response.json().get('prediction')\n",
    "print(\"Prediction:\", prediction)\n",
    "\n",
    "# Visualize the prediction (you can customize this based on your needs)\n",
    "plt.figure(figsize=(8, 4))\n",
    "plt.bar(['Fraud', 'Not Fraud'], prediction, color=['red', 'green'])\n",
    "plt.title('Fraud Detection Prediction')\n",
    "plt.xlabel('Class')\n",
    "plt.ylabel('Probability')\n",
    "plt.show()"
   ]
  }
 ],
 "metadata": {
  "kernelspec": {
   "display_name": "Python 3",
   "language": "python",
   "name": "python3"
  },
  "language_info": {
   "codemirror_mode": {
    "name": "ipython",
    "version": 3
   },
   "file_extension": ".py",
   "mimetype": "text/x-python",
   "name": "python",
   "nbconvert_exporter": "python",
   "pygments_lexer": "ipython3",
   "version": "3.8"
  }
 },
 "nbformat": 4,
 "nbformat_minor": 2
}
