import requests
import json
import pandas as pd
import matplotlib.pyplot as plt

# Define the API endpoint
url = "http://127.0.0.1:5000/predict"

# Sample input features for prediction
input_data = {
    "features": [1.5, 2.3, 0.7, 1.0, 0.4]  # Replace with actual feature values
}

try:
    # Make a POST request to the API
    response = requests.post(url, json=input_data)
    
    # Check if the request was successful
    response.raise_for_status()  # Will raise an error for bad responses
    
    # Parse the prediction response
    prediction = response.json().get('prediction')
    
    # Print the prediction
    print("Prediction:", prediction)
    
    # Check if prediction data is valid
    if prediction and isinstance(prediction, (list, tuple)) and len(prediction) == 2:
        # Visualize the prediction (customize as needed)
        plt.figure(figsize=(8, 4))
        plt.bar(['Not Fraud', 'Fraud'], prediction, color=['green', 'red'])
        plt.title('Fraud Detection Prediction')
        plt.xlabel('Class')
        plt.ylabel('Probability')
        plt.show()
    else:
        print("Invalid prediction format:", prediction)
        
except requests.exceptions.RequestException as e:
    print("Error with the request:", e)
except json.JSONDecodeError:
    print("Error decoding JSON from response")
