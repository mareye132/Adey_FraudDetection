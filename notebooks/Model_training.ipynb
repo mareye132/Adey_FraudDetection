{
 "cells": [
  {
   "cell_type": "code",
   "execution_count": null,
   "metadata": {},
   "outputs": [
    {
     "name": "stdout",
     "output_type": "stream",
     "text": [
      "Training Logistic Regression...\n",
      "Accuracy (Credit Card Data): 0.9990695551420246\n",
      "Accuracy (Fraud Data): 0.9057009562253913\n",
      "\n",
      "Training Decision Tree...\n",
      "Accuracy (Credit Card Data): 0.9991748885221726\n",
      "Accuracy (Fraud Data): 0.8921020414915792\n",
      "\n",
      "Training Random Forest...\n",
      "Accuracy (Credit Card Data): 0.9996137776061234\n",
      "Accuracy (Fraud Data): 0.9357773880819243\n",
      "\n",
      "Training Gradient Boosting...\n",
      "Accuracy (Credit Card Data): 0.9989466661985184\n",
      "Accuracy (Fraud Data): 0.9056347814578302\n",
      "\n",
      "Training Multi-Layer Perceptron...\n",
      "Accuracy (Credit Card Data): 0.999403110845827\n",
      "Accuracy (Fraud Data): 0.9057009562253913\n",
      "\n",
      "Training CNN...\n"
     ]
    }
   ],
   "source": [
    "# Step 1: Import necessary libraries and set up the environment\n",
    "import sys\n",
    "import os\n",
    "import pandas as pd\n",
    "import matplotlib.pyplot as plt\n",
    "import seaborn as sns\n",
    "\n",
    "# Add the scripts directory to the path to access Mode_training.py\n",
    "sys.path.append(os.path.abspath('../scripts'))\n",
    "\n",
    "# Import functions from the script\n",
    "from Model_training import prepare_data, define_and_train_models\n",
    "\n",
    "# Step 2: Prepare the data\n",
    "(X_train_cc, X_test_cc, y_train_cc, y_test_cc), (X_train_fraud, X_test_fraud, y_train_fraud, y_test_fraud) = prepare_data()\n",
    "\n",
    "# Step 3: Define and train models\n",
    "results = define_and_train_models(X_train_cc, y_train_cc, X_test_cc, y_test_cc,\n",
    "                                   X_train_fraud, y_train_fraud, X_test_fraud, y_test_fraud)\n",
    "\n",
    "# Step 4: Create a DataFrame for results\n",
    "accuracy_df = pd.DataFrame({\n",
    "    'Model': list(results.keys()),\n",
    "    'Credit Card Accuracy': [metrics['Credit Card Accuracy'] for metrics in results.values()],\n",
    "    'Fraud Accuracy': [metrics['Fraud Accuracy'] for metrics in results.values()]\n",
    "})\n",
    "\n",
    "# Step 5: Display the DataFrame\n",
    "print(accuracy_df)\n",
    "\n",
    "# Step 6: Visualization of model accuracies\n",
    "plt.figure(figsize=(12, 6))\n",
    "accuracy_df_melted = accuracy_df.melt(id_vars='Model', \n",
    "                                        value_vars=['Credit Card Accuracy', 'Fraud Accuracy'], \n",
    "                                        var_name='Dataset', \n",
    "                                        value_name='Accuracy')\n",
    "\n",
    "sns.barplot(data=accuracy_df_melted, x='Model', y='Accuracy', hue='Dataset')\n",
    "plt.title('Model Accuracy Comparison')\n",
    "plt.xlabel('Model')\n",
    "plt.ylabel('Accuracy')\n",
    "plt.xticks(rotation=45)\n",
    "plt.legend(title='Dataset')\n",
    "plt.tight_layout()\n",
    "plt.show()\n"
   ]
  }
 ],
 "metadata": {
  "kernelspec": {
   "display_name": "Python 3",
   "language": "python",
   "name": "python3"
  },
  "language_info": {
   "codemirror_mode": {
    "name": "ipython",
    "version": 3
   },
   "file_extension": ".py",
   "mimetype": "text/x-python",
   "name": "python",
   "nbconvert_exporter": "python",
   "pygments_lexer": "ipython3",
   "version": "3.12.5"
  }
 },
 "nbformat": 4,
 "nbformat_minor": 2
}
